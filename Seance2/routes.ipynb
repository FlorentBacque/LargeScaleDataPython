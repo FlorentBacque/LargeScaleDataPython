{
 "cells": [
  {
   "cell_type": "markdown",
   "metadata": {},
   "source": [
    "# Travaux routiers de Seine Maritime\n",
    "\n",
    "import les librairies"
   ]
  },
  {
   "cell_type": "code",
   "execution_count": 1,
   "metadata": {
    "collapsed": false
   },
   "outputs": [],
   "source": [
    "import csv\n",
    "import pandas as pd"
   ]
  },
  {
   "cell_type": "markdown",
   "metadata": {},
   "source": [
    "## Chargement et nettoyage\n",
    "\n",
    "Lecture du fichier cvs"
   ]
  },
  {
   "cell_type": "code",
   "execution_count": 2,
   "metadata": {
    "collapsed": false
   },
   "outputs": [
    {
     "name": "stdout",
     "output_type": "stream",
     "text": [
      "<class 'pandas.core.frame.DataFrame'>\n",
      "RangeIndex: 5492 entries, 0 to 5491\n",
      "Data columns (total 17 columns):\n",
      "entityid                    5492 non-null object\n",
      "route                       5492 non-null object\n",
      "rub                         5492 non-null int64\n",
      "age                         5492 non-null int64\n",
      "mois                        5492 non-null int64\n",
      "annee                       5492 non-null int64\n",
      "prd                         5492 non-null int64\n",
      "abd                         5492 non-null int64\n",
      "prf                         5492 non-null int64\n",
      "abf                         5492 non-null int64\n",
      "cumuld                      5492 non-null int64\n",
      "cumulf                      5492 non-null int64\n",
      "long                        5492 non-null int64\n",
      "epaisseurdernierstravaux    5492 non-null object\n",
      "anneedernierstravaux        5492 non-null int64\n",
      "naturedernierstravaux       5492 non-null object\n",
      "supportdernierstravaux      5486 non-null object\n",
      "dtypes: int64(12), object(5)\n",
      "memory usage: 729.5+ KB\n"
     ]
    }
   ],
   "source": [
    "data = pd.read_csv('CGDRSGDRDTRoutesdernierstravaux.csv', delimiter = \";\")\n",
    "\n",
    "data.info()"
   ]
  },
  {
   "cell_type": "markdown",
   "metadata": {},
   "source": [
    "On voit que le type de epaisseurdernierstravaux est object. Ceci est du à l'importation du csv, nous n'avons pas défini le caractère représentant les décimales."
   ]
  },
  {
   "cell_type": "code",
   "execution_count": 3,
   "metadata": {
    "collapsed": false
   },
   "outputs": [
    {
     "name": "stdout",
     "output_type": "stream",
     "text": [
      "<class 'pandas.core.frame.DataFrame'>\n",
      "RangeIndex: 5492 entries, 0 to 5491\n",
      "Data columns (total 17 columns):\n",
      "entityid                    5492 non-null object\n",
      "route                       5492 non-null object\n",
      "rub                         5492 non-null int64\n",
      "age                         5492 non-null int64\n",
      "mois                        5492 non-null int64\n",
      "annee                       5492 non-null int64\n",
      "prd                         5492 non-null int64\n",
      "abd                         5492 non-null int64\n",
      "prf                         5492 non-null int64\n",
      "abf                         5492 non-null int64\n",
      "cumuld                      5492 non-null int64\n",
      "cumulf                      5492 non-null int64\n",
      "long                        5492 non-null int64\n",
      "epaisseurdernierstravaux    5492 non-null float64\n",
      "anneedernierstravaux        5492 non-null int64\n",
      "naturedernierstravaux       5492 non-null object\n",
      "supportdernierstravaux      5486 non-null object\n",
      "dtypes: float64(1), int64(12), object(4)\n",
      "memory usage: 729.5+ KB\n"
     ]
    }
   ],
   "source": [
    "data = pd.read_csv('CGDRSGDRDTRoutesdernierstravaux.csv', delimiter = \";\", decimal = \",\")\n",
    "data.info()"
   ]
  },
  {
   "cell_type": "markdown",
   "metadata": {},
   "source": [
    "On a maintenant bien epaisseurdernierstravaux de type réel.\n",
    "On vérifie qu'il n'y ait pas de valeurs manquantes dans le dataframe."
   ]
  },
  {
   "cell_type": "code",
   "execution_count": 4,
   "metadata": {
    "collapsed": false
   },
   "outputs": [
    {
     "data": {
      "text/plain": [
       "entityid                    0\n",
       "route                       0\n",
       "rub                         0\n",
       "age                         0\n",
       "mois                        0\n",
       "annee                       0\n",
       "prd                         0\n",
       "abd                         0\n",
       "prf                         0\n",
       "abf                         0\n",
       "cumuld                      0\n",
       "cumulf                      0\n",
       "long                        0\n",
       "epaisseurdernierstravaux    0\n",
       "anneedernierstravaux        0\n",
       "naturedernierstravaux       0\n",
       "supportdernierstravaux      6\n",
       "dtype: int64"
      ]
     },
     "execution_count": 4,
     "metadata": {},
     "output_type": "execute_result"
    }
   ],
   "source": [
    "data.isnull().sum()"
   ]
  },
  {
   "cell_type": "markdown",
   "metadata": {},
   "source": [
    "Il n'y a pas de NaN dans le dataframe.\n",
    "Vérifions les valeurs aberrantes :"
   ]
  },
  {
   "cell_type": "code",
   "execution_count": 5,
   "metadata": {
    "collapsed": false
   },
   "outputs": [
    {
     "data": {
      "text/html": [
       "<div>\n",
       "<table border=\"1\" class=\"dataframe\">\n",
       "  <thead>\n",
       "    <tr style=\"text-align: right;\">\n",
       "      <th></th>\n",
       "      <th>rub</th>\n",
       "      <th>age</th>\n",
       "      <th>mois</th>\n",
       "      <th>annee</th>\n",
       "      <th>prd</th>\n",
       "      <th>abd</th>\n",
       "      <th>prf</th>\n",
       "      <th>abf</th>\n",
       "      <th>cumuld</th>\n",
       "      <th>cumulf</th>\n",
       "      <th>long</th>\n",
       "      <th>epaisseurdernierstravaux</th>\n",
       "      <th>anneedernierstravaux</th>\n",
       "    </tr>\n",
       "  </thead>\n",
       "  <tbody>\n",
       "    <tr>\n",
       "      <th>count</th>\n",
       "      <td>5492.0</td>\n",
       "      <td>5492.0</td>\n",
       "      <td>5492.000000</td>\n",
       "      <td>5492.000000</td>\n",
       "      <td>5492.000000</td>\n",
       "      <td>5492.000000</td>\n",
       "      <td>5492.000000</td>\n",
       "      <td>5492.000000</td>\n",
       "      <td>5492.000000</td>\n",
       "      <td>5492.000000</td>\n",
       "      <td>5492.000000</td>\n",
       "      <td>5492.000000</td>\n",
       "      <td>5492.000000</td>\n",
       "    </tr>\n",
       "    <tr>\n",
       "      <th>mean</th>\n",
       "      <td>20.0</td>\n",
       "      <td>0.0</td>\n",
       "      <td>7.442098</td>\n",
       "      <td>8.410233</td>\n",
       "      <td>17.911143</td>\n",
       "      <td>471.999818</td>\n",
       "      <td>19.052986</td>\n",
       "      <td>526.152221</td>\n",
       "      <td>17854.609068</td>\n",
       "      <td>19047.932993</td>\n",
       "      <td>1193.323926</td>\n",
       "      <td>106.477810</td>\n",
       "      <td>2002.685907</td>\n",
       "    </tr>\n",
       "    <tr>\n",
       "      <th>std</th>\n",
       "      <td>0.0</td>\n",
       "      <td>0.0</td>\n",
       "      <td>2.247506</td>\n",
       "      <td>2.273855</td>\n",
       "      <td>21.058117</td>\n",
       "      <td>418.826419</td>\n",
       "      <td>21.135804</td>\n",
       "      <td>423.672007</td>\n",
       "      <td>20606.118584</td>\n",
       "      <td>20659.906627</td>\n",
       "      <td>1326.384627</td>\n",
       "      <td>1013.277896</td>\n",
       "      <td>11.412237</td>\n",
       "    </tr>\n",
       "    <tr>\n",
       "      <th>min</th>\n",
       "      <td>20.0</td>\n",
       "      <td>0.0</td>\n",
       "      <td>1.000000</td>\n",
       "      <td>1.000000</td>\n",
       "      <td>0.000000</td>\n",
       "      <td>0.000000</td>\n",
       "      <td>0.000000</td>\n",
       "      <td>0.000000</td>\n",
       "      <td>0.000000</td>\n",
       "      <td>1.000000</td>\n",
       "      <td>1.000000</td>\n",
       "      <td>0.000000</td>\n",
       "      <td>1900.000000</td>\n",
       "    </tr>\n",
       "    <tr>\n",
       "      <th>25%</th>\n",
       "      <td>20.0</td>\n",
       "      <td>0.0</td>\n",
       "      <td>7.000000</td>\n",
       "      <td>7.000000</td>\n",
       "      <td>3.000000</td>\n",
       "      <td>154.000000</td>\n",
       "      <td>4.000000</td>\n",
       "      <td>235.000000</td>\n",
       "      <td>3355.000000</td>\n",
       "      <td>4550.000000</td>\n",
       "      <td>259.750000</td>\n",
       "      <td>1.000000</td>\n",
       "      <td>2000.000000</td>\n",
       "    </tr>\n",
       "    <tr>\n",
       "      <th>50%</th>\n",
       "      <td>20.0</td>\n",
       "      <td>0.0</td>\n",
       "      <td>7.000000</td>\n",
       "      <td>7.000000</td>\n",
       "      <td>11.000000</td>\n",
       "      <td>443.000000</td>\n",
       "      <td>12.000000</td>\n",
       "      <td>500.000000</td>\n",
       "      <td>10963.500000</td>\n",
       "      <td>12203.500000</td>\n",
       "      <td>724.000000</td>\n",
       "      <td>2.000000</td>\n",
       "      <td>2004.000000</td>\n",
       "    </tr>\n",
       "    <tr>\n",
       "      <th>75%</th>\n",
       "      <td>20.0</td>\n",
       "      <td>0.0</td>\n",
       "      <td>9.000000</td>\n",
       "      <td>9.000000</td>\n",
       "      <td>25.000000</td>\n",
       "      <td>730.000000</td>\n",
       "      <td>26.000000</td>\n",
       "      <td>760.000000</td>\n",
       "      <td>24485.500000</td>\n",
       "      <td>25850.250000</td>\n",
       "      <td>1679.250000</td>\n",
       "      <td>4.000000</td>\n",
       "      <td>2007.000000</td>\n",
       "    </tr>\n",
       "    <tr>\n",
       "      <th>max</th>\n",
       "      <td>20.0</td>\n",
       "      <td>0.0</td>\n",
       "      <td>12.000000</td>\n",
       "      <td>50.000000</td>\n",
       "      <td>132.000000</td>\n",
       "      <td>8000.000000</td>\n",
       "      <td>134.000000</td>\n",
       "      <td>8000.000000</td>\n",
       "      <td>131215.000000</td>\n",
       "      <td>133893.000000</td>\n",
       "      <td>10992.000000</td>\n",
       "      <td>9999.990000</td>\n",
       "      <td>2014.000000</td>\n",
       "    </tr>\n",
       "  </tbody>\n",
       "</table>\n",
       "</div>"
      ],
      "text/plain": [
       "          rub     age         mois        annee          prd          abd  \\\n",
       "count  5492.0  5492.0  5492.000000  5492.000000  5492.000000  5492.000000   \n",
       "mean     20.0     0.0     7.442098     8.410233    17.911143   471.999818   \n",
       "std       0.0     0.0     2.247506     2.273855    21.058117   418.826419   \n",
       "min      20.0     0.0     1.000000     1.000000     0.000000     0.000000   \n",
       "25%      20.0     0.0     7.000000     7.000000     3.000000   154.000000   \n",
       "50%      20.0     0.0     7.000000     7.000000    11.000000   443.000000   \n",
       "75%      20.0     0.0     9.000000     9.000000    25.000000   730.000000   \n",
       "max      20.0     0.0    12.000000    50.000000   132.000000  8000.000000   \n",
       "\n",
       "               prf          abf         cumuld         cumulf          long  \\\n",
       "count  5492.000000  5492.000000    5492.000000    5492.000000   5492.000000   \n",
       "mean     19.052986   526.152221   17854.609068   19047.932993   1193.323926   \n",
       "std      21.135804   423.672007   20606.118584   20659.906627   1326.384627   \n",
       "min       0.000000     0.000000       0.000000       1.000000      1.000000   \n",
       "25%       4.000000   235.000000    3355.000000    4550.000000    259.750000   \n",
       "50%      12.000000   500.000000   10963.500000   12203.500000    724.000000   \n",
       "75%      26.000000   760.000000   24485.500000   25850.250000   1679.250000   \n",
       "max     134.000000  8000.000000  131215.000000  133893.000000  10992.000000   \n",
       "\n",
       "       epaisseurdernierstravaux  anneedernierstravaux  \n",
       "count               5492.000000           5492.000000  \n",
       "mean                 106.477810           2002.685907  \n",
       "std                 1013.277896             11.412237  \n",
       "min                    0.000000           1900.000000  \n",
       "25%                    1.000000           2000.000000  \n",
       "50%                    2.000000           2004.000000  \n",
       "75%                    4.000000           2007.000000  \n",
       "max                 9999.990000           2014.000000  "
      ]
     },
     "execution_count": 5,
     "metadata": {},
     "output_type": "execute_result"
    }
   ],
   "source": [
    "data.describe()"
   ]
  },
  {
   "cell_type": "markdown",
   "metadata": {},
   "source": [
    "On peut voir pour epaisseurdernierstravaux que le 75% des valeurs ont une épaisseur inférieure à 4, la moyenne est à 106 et le max est à 9999. Les valeurs à 9999 sont peu nombreuses et éloignées de la majorité des valeurs. Il est probable que cette valeur soit mise quand l'information est manquante.\n",
    "Retirons donc les valeurs supérieures à 100."
   ]
  },
  {
   "cell_type": "code",
   "execution_count": 6,
   "metadata": {
    "collapsed": false
   },
   "outputs": [
    {
     "data": {
      "text/html": [
       "<div>\n",
       "<table border=\"1\" class=\"dataframe\">\n",
       "  <thead>\n",
       "    <tr style=\"text-align: right;\">\n",
       "      <th></th>\n",
       "      <th>rub</th>\n",
       "      <th>age</th>\n",
       "      <th>mois</th>\n",
       "      <th>annee</th>\n",
       "      <th>prd</th>\n",
       "      <th>abd</th>\n",
       "      <th>prf</th>\n",
       "      <th>abf</th>\n",
       "      <th>cumuld</th>\n",
       "      <th>cumulf</th>\n",
       "      <th>long</th>\n",
       "      <th>epaisseurdernierstravaux</th>\n",
       "      <th>anneedernierstravaux</th>\n",
       "    </tr>\n",
       "  </thead>\n",
       "  <tbody>\n",
       "    <tr>\n",
       "      <th>count</th>\n",
       "      <td>5435.0</td>\n",
       "      <td>5435.0</td>\n",
       "      <td>5435.000000</td>\n",
       "      <td>5435.000000</td>\n",
       "      <td>5435.000000</td>\n",
       "      <td>5435.000000</td>\n",
       "      <td>5435.000000</td>\n",
       "      <td>5435.000000</td>\n",
       "      <td>5435.000000</td>\n",
       "      <td>5435.000000</td>\n",
       "      <td>5435.000000</td>\n",
       "      <td>5435.000000</td>\n",
       "      <td>5435.000000</td>\n",
       "    </tr>\n",
       "    <tr>\n",
       "      <th>mean</th>\n",
       "      <td>20.0</td>\n",
       "      <td>0.0</td>\n",
       "      <td>7.442870</td>\n",
       "      <td>8.422999</td>\n",
       "      <td>18.035695</td>\n",
       "      <td>474.222447</td>\n",
       "      <td>19.184729</td>\n",
       "      <td>525.906900</td>\n",
       "      <td>17975.892364</td>\n",
       "      <td>19173.894204</td>\n",
       "      <td>1198.001840</td>\n",
       "      <td>2.718804</td>\n",
       "      <td>2003.524931</td>\n",
       "    </tr>\n",
       "    <tr>\n",
       "      <th>std</th>\n",
       "      <td>0.0</td>\n",
       "      <td>0.0</td>\n",
       "      <td>2.256101</td>\n",
       "      <td>2.280340</td>\n",
       "      <td>21.095761</td>\n",
       "      <td>412.511534</td>\n",
       "      <td>21.168612</td>\n",
       "      <td>417.216551</td>\n",
       "      <td>20632.998610</td>\n",
       "      <td>20684.053503</td>\n",
       "      <td>1328.880214</td>\n",
       "      <td>2.050025</td>\n",
       "      <td>6.742481</td>\n",
       "    </tr>\n",
       "    <tr>\n",
       "      <th>min</th>\n",
       "      <td>20.0</td>\n",
       "      <td>0.0</td>\n",
       "      <td>1.000000</td>\n",
       "      <td>1.000000</td>\n",
       "      <td>0.000000</td>\n",
       "      <td>0.000000</td>\n",
       "      <td>0.000000</td>\n",
       "      <td>0.000000</td>\n",
       "      <td>0.000000</td>\n",
       "      <td>1.000000</td>\n",
       "      <td>1.000000</td>\n",
       "      <td>0.000000</td>\n",
       "      <td>1900.000000</td>\n",
       "    </tr>\n",
       "    <tr>\n",
       "      <th>25%</th>\n",
       "      <td>20.0</td>\n",
       "      <td>0.0</td>\n",
       "      <td>7.000000</td>\n",
       "      <td>7.000000</td>\n",
       "      <td>3.000000</td>\n",
       "      <td>160.000000</td>\n",
       "      <td>4.500000</td>\n",
       "      <td>236.000000</td>\n",
       "      <td>3459.500000</td>\n",
       "      <td>4665.000000</td>\n",
       "      <td>261.500000</td>\n",
       "      <td>1.000000</td>\n",
       "      <td>2000.000000</td>\n",
       "    </tr>\n",
       "    <tr>\n",
       "      <th>50%</th>\n",
       "      <td>20.0</td>\n",
       "      <td>0.0</td>\n",
       "      <td>7.000000</td>\n",
       "      <td>7.000000</td>\n",
       "      <td>11.000000</td>\n",
       "      <td>447.000000</td>\n",
       "      <td>12.000000</td>\n",
       "      <td>500.000000</td>\n",
       "      <td>11114.000000</td>\n",
       "      <td>12357.000000</td>\n",
       "      <td>728.000000</td>\n",
       "      <td>2.000000</td>\n",
       "      <td>2004.000000</td>\n",
       "    </tr>\n",
       "    <tr>\n",
       "      <th>75%</th>\n",
       "      <td>20.0</td>\n",
       "      <td>0.0</td>\n",
       "      <td>9.000000</td>\n",
       "      <td>9.000000</td>\n",
       "      <td>25.000000</td>\n",
       "      <td>732.000000</td>\n",
       "      <td>26.000000</td>\n",
       "      <td>760.000000</td>\n",
       "      <td>24680.000000</td>\n",
       "      <td>26047.000000</td>\n",
       "      <td>1683.000000</td>\n",
       "      <td>4.000000</td>\n",
       "      <td>2007.000000</td>\n",
       "    </tr>\n",
       "    <tr>\n",
       "      <th>max</th>\n",
       "      <td>20.0</td>\n",
       "      <td>0.0</td>\n",
       "      <td>12.000000</td>\n",
       "      <td>50.000000</td>\n",
       "      <td>132.000000</td>\n",
       "      <td>8000.000000</td>\n",
       "      <td>134.000000</td>\n",
       "      <td>8000.000000</td>\n",
       "      <td>131215.000000</td>\n",
       "      <td>133893.000000</td>\n",
       "      <td>10992.000000</td>\n",
       "      <td>30.000000</td>\n",
       "      <td>2014.000000</td>\n",
       "    </tr>\n",
       "  </tbody>\n",
       "</table>\n",
       "</div>"
      ],
      "text/plain": [
       "          rub     age         mois        annee          prd          abd  \\\n",
       "count  5435.0  5435.0  5435.000000  5435.000000  5435.000000  5435.000000   \n",
       "mean     20.0     0.0     7.442870     8.422999    18.035695   474.222447   \n",
       "std       0.0     0.0     2.256101     2.280340    21.095761   412.511534   \n",
       "min      20.0     0.0     1.000000     1.000000     0.000000     0.000000   \n",
       "25%      20.0     0.0     7.000000     7.000000     3.000000   160.000000   \n",
       "50%      20.0     0.0     7.000000     7.000000    11.000000   447.000000   \n",
       "75%      20.0     0.0     9.000000     9.000000    25.000000   732.000000   \n",
       "max      20.0     0.0    12.000000    50.000000   132.000000  8000.000000   \n",
       "\n",
       "               prf          abf         cumuld         cumulf          long  \\\n",
       "count  5435.000000  5435.000000    5435.000000    5435.000000   5435.000000   \n",
       "mean     19.184729   525.906900   17975.892364   19173.894204   1198.001840   \n",
       "std      21.168612   417.216551   20632.998610   20684.053503   1328.880214   \n",
       "min       0.000000     0.000000       0.000000       1.000000      1.000000   \n",
       "25%       4.500000   236.000000    3459.500000    4665.000000    261.500000   \n",
       "50%      12.000000   500.000000   11114.000000   12357.000000    728.000000   \n",
       "75%      26.000000   760.000000   24680.000000   26047.000000   1683.000000   \n",
       "max     134.000000  8000.000000  131215.000000  133893.000000  10992.000000   \n",
       "\n",
       "       epaisseurdernierstravaux  anneedernierstravaux  \n",
       "count               5435.000000           5435.000000  \n",
       "mean                   2.718804           2003.524931  \n",
       "std                    2.050025              6.742481  \n",
       "min                    0.000000           1900.000000  \n",
       "25%                    1.000000           2000.000000  \n",
       "50%                    2.000000           2004.000000  \n",
       "75%                    4.000000           2007.000000  \n",
       "max                   30.000000           2014.000000  "
      ]
     },
     "execution_count": 6,
     "metadata": {},
     "output_type": "execute_result"
    }
   ],
   "source": [
    "data = data[data['epaisseurdernierstravaux'] < 100]\n",
    "\n",
    "data.describe()"
   ]
  },
  {
   "cell_type": "markdown",
   "metadata": {},
   "source": [
    "Les valeurs sont ici plus cohérentes."
   ]
  },
  {
   "cell_type": "markdown",
   "metadata": {},
   "source": [
    "## Anayse\n",
    "### 1°"
   ]
  },
  {
   "cell_type": "code",
   "execution_count": 7,
   "metadata": {
    "collapsed": false
   },
   "outputs": [
    {
     "data": {
      "text/plain": [
       "array(['ES-BC', 'COUL', 'ES', 'BBUM', 'BBSG', 'BBSP', 'BB', 'BBTM', 'BBM',\n",
       "       'BB-REP', 'ES-MC', 'ECF-BC', 'BBMP', 'ECF-MC', 'COUL-S', 'ESLGg',\n",
       "       'BBELA', 'BBME', 'ES-SP', 'BETOFX', 'BBSGP', 'BBTMP', 'ESDGSP',\n",
       "       'BBMM', 'BBELAS', 'BETOFL', 'BBCOL', 'BBSGM', 'BB+BBM', 'ESDG', 'I',\n",
       "       'BBTMM', 'ESLG', 'PAVES', 'BB-RPR', 'BBMF', 'ESSP', 'ECF', 'BBEDC',\n",
       "       'BBAUT'], dtype=object)"
      ]
     },
     "execution_count": 7,
     "metadata": {},
     "output_type": "execute_result"
    }
   ],
   "source": [
    "data['naturedernierstravaux'].unique()"
   ]
  },
  {
   "cell_type": "code",
   "execution_count": 8,
   "metadata": {
    "collapsed": false
   },
   "outputs": [
    {
     "data": {
      "text/html": [
       "<div>\n",
       "<table border=\"1\" class=\"dataframe\">\n",
       "  <thead>\n",
       "    <tr style=\"text-align: right;\">\n",
       "      <th></th>\n",
       "      <th>naturedernierstravaux</th>\n",
       "      <th>count</th>\n",
       "    </tr>\n",
       "  </thead>\n",
       "  <tbody>\n",
       "    <tr>\n",
       "      <th>0</th>\n",
       "      <td>ES-BC</td>\n",
       "      <td>1</td>\n",
       "    </tr>\n",
       "    <tr>\n",
       "      <th>1</th>\n",
       "      <td>COUL</td>\n",
       "      <td>1</td>\n",
       "    </tr>\n",
       "    <tr>\n",
       "      <th>2</th>\n",
       "      <td>ES</td>\n",
       "      <td>1</td>\n",
       "    </tr>\n",
       "    <tr>\n",
       "      <th>3</th>\n",
       "      <td>BBUM</td>\n",
       "      <td>1</td>\n",
       "    </tr>\n",
       "    <tr>\n",
       "      <th>4</th>\n",
       "      <td>COUL</td>\n",
       "      <td>1</td>\n",
       "    </tr>\n",
       "  </tbody>\n",
       "</table>\n",
       "</div>"
      ],
      "text/plain": [
       "  naturedernierstravaux  count\n",
       "0                 ES-BC      1\n",
       "1                  COUL      1\n",
       "2                    ES      1\n",
       "3                  BBUM      1\n",
       "4                  COUL      1"
      ]
     },
     "execution_count": 8,
     "metadata": {},
     "output_type": "execute_result"
    }
   ],
   "source": [
    "natureTravaux = pd.DataFrame(data['naturedernierstravaux'].copy())\n",
    "natureTravaux['count'] = 1\n",
    "natureTravaux.head()"
   ]
  },
  {
   "cell_type": "code",
   "execution_count": 9,
   "metadata": {
    "collapsed": false
   },
   "outputs": [
    {
     "data": {
      "text/html": [
       "<div>\n",
       "<table border=\"1\" class=\"dataframe\">\n",
       "  <thead>\n",
       "    <tr style=\"text-align: right;\">\n",
       "      <th></th>\n",
       "      <th>count</th>\n",
       "    </tr>\n",
       "    <tr>\n",
       "      <th>naturedernierstravaux</th>\n",
       "      <th></th>\n",
       "    </tr>\n",
       "  </thead>\n",
       "  <tbody>\n",
       "    <tr>\n",
       "      <th>BB</th>\n",
       "      <td>1189</td>\n",
       "    </tr>\n",
       "    <tr>\n",
       "      <th>BB+BBM</th>\n",
       "      <td>2</td>\n",
       "    </tr>\n",
       "    <tr>\n",
       "      <th>BB-REP</th>\n",
       "      <td>178</td>\n",
       "    </tr>\n",
       "    <tr>\n",
       "      <th>BB-RPR</th>\n",
       "      <td>1</td>\n",
       "    </tr>\n",
       "    <tr>\n",
       "      <th>BBAUT</th>\n",
       "      <td>1</td>\n",
       "    </tr>\n",
       "  </tbody>\n",
       "</table>\n",
       "</div>"
      ],
      "text/plain": [
       "                       count\n",
       "naturedernierstravaux       \n",
       "BB                      1189\n",
       "BB+BBM                     2\n",
       "BB-REP                   178\n",
       "BB-RPR                     1\n",
       "BBAUT                      1"
      ]
     },
     "execution_count": 9,
     "metadata": {},
     "output_type": "execute_result"
    }
   ],
   "source": [
    "natureTravaux = natureTravaux.groupby('naturedernierstravaux').sum()\n",
    "natureTravaux.head()"
   ]
  },
  {
   "cell_type": "code",
   "execution_count": 10,
   "metadata": {
    "collapsed": false
   },
   "outputs": [
    {
     "data": {
      "text/html": [
       "<div>\n",
       "<table border=\"1\" class=\"dataframe\">\n",
       "  <thead>\n",
       "    <tr style=\"text-align: right;\">\n",
       "      <th></th>\n",
       "      <th>count</th>\n",
       "    </tr>\n",
       "    <tr>\n",
       "      <th>naturedernierstravaux</th>\n",
       "      <th></th>\n",
       "    </tr>\n",
       "  </thead>\n",
       "  <tbody>\n",
       "    <tr>\n",
       "      <th>BB</th>\n",
       "      <td>1189</td>\n",
       "    </tr>\n",
       "    <tr>\n",
       "      <th>COUL</th>\n",
       "      <td>994</td>\n",
       "    </tr>\n",
       "    <tr>\n",
       "      <th>ES</th>\n",
       "      <td>864</td>\n",
       "    </tr>\n",
       "    <tr>\n",
       "      <th>BBUM</th>\n",
       "      <td>348</td>\n",
       "    </tr>\n",
       "    <tr>\n",
       "      <th>BBTM</th>\n",
       "      <td>340</td>\n",
       "    </tr>\n",
       "  </tbody>\n",
       "</table>\n",
       "</div>"
      ],
      "text/plain": [
       "                       count\n",
       "naturedernierstravaux       \n",
       "BB                      1189\n",
       "COUL                     994\n",
       "ES                       864\n",
       "BBUM                     348\n",
       "BBTM                     340"
      ]
     },
     "execution_count": 10,
     "metadata": {},
     "output_type": "execute_result"
    }
   ],
   "source": [
    "natureTravaux.sort_values(by = ['count'], axis = 0, ascending = False, inplace = True)\n",
    "natureTravaux.head(5)"
   ]
  },
  {
   "cell_type": "markdown",
   "metadata": {},
   "source": [
    "On peut voir ici que les 5 natures de travaux les plus fréquentes sont :\n",
    "- BB\n",
    "- COUL\n",
    "- ES\n",
    "- BBUM\n",
    "- BBTM"
   ]
  },
  {
   "cell_type": "markdown",
   "metadata": {},
   "source": [
    "### 2°"
   ]
  },
  {
   "cell_type": "code",
   "execution_count": 11,
   "metadata": {
    "collapsed": false
   },
   "outputs": [
    {
     "data": {
      "text/html": [
       "<div>\n",
       "<table border=\"1\" class=\"dataframe\">\n",
       "  <thead>\n",
       "    <tr style=\"text-align: right;\">\n",
       "      <th></th>\n",
       "      <th>annee</th>\n",
       "      <th>count</th>\n",
       "    </tr>\n",
       "  </thead>\n",
       "  <tbody>\n",
       "    <tr>\n",
       "      <th>0</th>\n",
       "      <td>7</td>\n",
       "      <td>1</td>\n",
       "    </tr>\n",
       "    <tr>\n",
       "      <th>1</th>\n",
       "      <td>7</td>\n",
       "      <td>1</td>\n",
       "    </tr>\n",
       "    <tr>\n",
       "      <th>2</th>\n",
       "      <td>7</td>\n",
       "      <td>1</td>\n",
       "    </tr>\n",
       "    <tr>\n",
       "      <th>3</th>\n",
       "      <td>9</td>\n",
       "      <td>1</td>\n",
       "    </tr>\n",
       "    <tr>\n",
       "      <th>4</th>\n",
       "      <td>7</td>\n",
       "      <td>1</td>\n",
       "    </tr>\n",
       "  </tbody>\n",
       "</table>\n",
       "</div>"
      ],
      "text/plain": [
       "   annee  count\n",
       "0      7      1\n",
       "1      7      1\n",
       "2      7      1\n",
       "3      9      1\n",
       "4      7      1"
      ]
     },
     "execution_count": 11,
     "metadata": {},
     "output_type": "execute_result"
    }
   ],
   "source": [
    "nombreTravaux = pd.DataFrame(data['annee'].copy())\n",
    "nombreTravaux['count'] = 1\n",
    "nombreTravaux.head()"
   ]
  },
  {
   "cell_type": "code",
   "execution_count": 12,
   "metadata": {
    "collapsed": false
   },
   "outputs": [
    {
     "data": {
      "text/html": [
       "<div>\n",
       "<table border=\"1\" class=\"dataframe\">\n",
       "  <thead>\n",
       "    <tr style=\"text-align: right;\">\n",
       "      <th></th>\n",
       "      <th>count</th>\n",
       "    </tr>\n",
       "    <tr>\n",
       "      <th>annee</th>\n",
       "      <th></th>\n",
       "    </tr>\n",
       "  </thead>\n",
       "  <tbody>\n",
       "    <tr>\n",
       "      <th>1</th>\n",
       "      <td>1</td>\n",
       "    </tr>\n",
       "    <tr>\n",
       "      <th>4</th>\n",
       "      <td>1</td>\n",
       "    </tr>\n",
       "    <tr>\n",
       "      <th>5</th>\n",
       "      <td>2</td>\n",
       "    </tr>\n",
       "    <tr>\n",
       "      <th>7</th>\n",
       "      <td>3345</td>\n",
       "    </tr>\n",
       "    <tr>\n",
       "      <th>8</th>\n",
       "      <td>511</td>\n",
       "    </tr>\n",
       "    <tr>\n",
       "      <th>9</th>\n",
       "      <td>247</td>\n",
       "    </tr>\n",
       "    <tr>\n",
       "      <th>10</th>\n",
       "      <td>104</td>\n",
       "    </tr>\n",
       "    <tr>\n",
       "      <th>11</th>\n",
       "      <td>453</td>\n",
       "    </tr>\n",
       "    <tr>\n",
       "      <th>12</th>\n",
       "      <td>271</td>\n",
       "    </tr>\n",
       "    <tr>\n",
       "      <th>13</th>\n",
       "      <td>273</td>\n",
       "    </tr>\n",
       "    <tr>\n",
       "      <th>14</th>\n",
       "      <td>226</td>\n",
       "    </tr>\n",
       "    <tr>\n",
       "      <th>50</th>\n",
       "      <td>1</td>\n",
       "    </tr>\n",
       "  </tbody>\n",
       "</table>\n",
       "</div>"
      ],
      "text/plain": [
       "       count\n",
       "annee       \n",
       "1          1\n",
       "4          1\n",
       "5          2\n",
       "7       3345\n",
       "8        511\n",
       "9        247\n",
       "10       104\n",
       "11       453\n",
       "12       271\n",
       "13       273\n",
       "14       226\n",
       "50         1"
      ]
     },
     "execution_count": 12,
     "metadata": {},
     "output_type": "execute_result"
    }
   ],
   "source": [
    "nombreTravaux = nombreTravaux.groupby('annee').sum()\n",
    "nombreTravaux"
   ]
  },
  {
   "cell_type": "code",
   "execution_count": 13,
   "metadata": {
    "collapsed": false
   },
   "outputs": [
    {
     "data": {
      "text/html": [
       "<div>\n",
       "<table border=\"1\" class=\"dataframe\">\n",
       "  <thead>\n",
       "    <tr style=\"text-align: right;\">\n",
       "      <th></th>\n",
       "      <th>annee</th>\n",
       "      <th>epaisseurdernierstravaux</th>\n",
       "    </tr>\n",
       "  </thead>\n",
       "  <tbody>\n",
       "    <tr>\n",
       "      <th>0</th>\n",
       "      <td>7</td>\n",
       "      <td>1.5</td>\n",
       "    </tr>\n",
       "    <tr>\n",
       "      <th>1</th>\n",
       "      <td>7</td>\n",
       "      <td>1.0</td>\n",
       "    </tr>\n",
       "    <tr>\n",
       "      <th>2</th>\n",
       "      <td>7</td>\n",
       "      <td>1.0</td>\n",
       "    </tr>\n",
       "    <tr>\n",
       "      <th>3</th>\n",
       "      <td>9</td>\n",
       "      <td>2.0</td>\n",
       "    </tr>\n",
       "    <tr>\n",
       "      <th>4</th>\n",
       "      <td>7</td>\n",
       "      <td>1.0</td>\n",
       "    </tr>\n",
       "  </tbody>\n",
       "</table>\n",
       "</div>"
      ],
      "text/plain": [
       "   annee  epaisseurdernierstravaux\n",
       "0      7                       1.5\n",
       "1      7                       1.0\n",
       "2      7                       1.0\n",
       "3      9                       2.0\n",
       "4      7                       1.0"
      ]
     },
     "execution_count": 13,
     "metadata": {},
     "output_type": "execute_result"
    }
   ],
   "source": [
    "epaisseurTravaux = pd.DataFrame(data[['annee', 'epaisseurdernierstravaux']].copy())\n",
    "epaisseurTravaux.head()"
   ]
  },
  {
   "cell_type": "code",
   "execution_count": 14,
   "metadata": {
    "collapsed": false
   },
   "outputs": [
    {
     "data": {
      "text/html": [
       "<div>\n",
       "<table border=\"1\" class=\"dataframe\">\n",
       "  <thead>\n",
       "    <tr style=\"text-align: right;\">\n",
       "      <th></th>\n",
       "      <th>epaisseurdernierstravaux</th>\n",
       "    </tr>\n",
       "    <tr>\n",
       "      <th>annee</th>\n",
       "      <th></th>\n",
       "    </tr>\n",
       "  </thead>\n",
       "  <tbody>\n",
       "    <tr>\n",
       "      <th>1</th>\n",
       "      <td>1.000000</td>\n",
       "    </tr>\n",
       "    <tr>\n",
       "      <th>4</th>\n",
       "      <td>0.000000</td>\n",
       "    </tr>\n",
       "    <tr>\n",
       "      <th>5</th>\n",
       "      <td>6.500000</td>\n",
       "    </tr>\n",
       "    <tr>\n",
       "      <th>7</th>\n",
       "      <td>2.614918</td>\n",
       "    </tr>\n",
       "    <tr>\n",
       "      <th>8</th>\n",
       "      <td>2.548337</td>\n",
       "    </tr>\n",
       "    <tr>\n",
       "      <th>9</th>\n",
       "      <td>2.832794</td>\n",
       "    </tr>\n",
       "    <tr>\n",
       "      <th>10</th>\n",
       "      <td>3.187500</td>\n",
       "    </tr>\n",
       "    <tr>\n",
       "      <th>11</th>\n",
       "      <td>3.111038</td>\n",
       "    </tr>\n",
       "    <tr>\n",
       "      <th>12</th>\n",
       "      <td>3.419557</td>\n",
       "    </tr>\n",
       "    <tr>\n",
       "      <th>13</th>\n",
       "      <td>2.762271</td>\n",
       "    </tr>\n",
       "    <tr>\n",
       "      <th>14</th>\n",
       "      <td>2.607522</td>\n",
       "    </tr>\n",
       "    <tr>\n",
       "      <th>50</th>\n",
       "      <td>3.000000</td>\n",
       "    </tr>\n",
       "  </tbody>\n",
       "</table>\n",
       "</div>"
      ],
      "text/plain": [
       "       epaisseurdernierstravaux\n",
       "annee                          \n",
       "1                      1.000000\n",
       "4                      0.000000\n",
       "5                      6.500000\n",
       "7                      2.614918\n",
       "8                      2.548337\n",
       "9                      2.832794\n",
       "10                     3.187500\n",
       "11                     3.111038\n",
       "12                     3.419557\n",
       "13                     2.762271\n",
       "14                     2.607522\n",
       "50                     3.000000"
      ]
     },
     "execution_count": 14,
     "metadata": {},
     "output_type": "execute_result"
    }
   ],
   "source": [
    "epaisseurTravaux = epaisseurTravaux.groupby('annee').mean()\n",
    "epaisseurTravaux"
   ]
  },
  {
   "cell_type": "code",
   "execution_count": 15,
   "metadata": {
    "collapsed": false
   },
   "outputs": [
    {
     "data": {
      "text/html": [
       "<div>\n",
       "<table border=\"1\" class=\"dataframe\">\n",
       "  <thead>\n",
       "    <tr style=\"text-align: right;\">\n",
       "      <th></th>\n",
       "      <th>count</th>\n",
       "      <th>epaisseurdernierstravaux</th>\n",
       "    </tr>\n",
       "    <tr>\n",
       "      <th>annee</th>\n",
       "      <th></th>\n",
       "      <th></th>\n",
       "    </tr>\n",
       "  </thead>\n",
       "  <tbody>\n",
       "    <tr>\n",
       "      <th>5</th>\n",
       "      <td>2</td>\n",
       "      <td>6.500000</td>\n",
       "    </tr>\n",
       "    <tr>\n",
       "      <th>12</th>\n",
       "      <td>271</td>\n",
       "      <td>3.419557</td>\n",
       "    </tr>\n",
       "    <tr>\n",
       "      <th>10</th>\n",
       "      <td>104</td>\n",
       "      <td>3.187500</td>\n",
       "    </tr>\n",
       "    <tr>\n",
       "      <th>11</th>\n",
       "      <td>453</td>\n",
       "      <td>3.111038</td>\n",
       "    </tr>\n",
       "    <tr>\n",
       "      <th>50</th>\n",
       "      <td>1</td>\n",
       "      <td>3.000000</td>\n",
       "    </tr>\n",
       "    <tr>\n",
       "      <th>9</th>\n",
       "      <td>247</td>\n",
       "      <td>2.832794</td>\n",
       "    </tr>\n",
       "    <tr>\n",
       "      <th>13</th>\n",
       "      <td>273</td>\n",
       "      <td>2.762271</td>\n",
       "    </tr>\n",
       "    <tr>\n",
       "      <th>7</th>\n",
       "      <td>3345</td>\n",
       "      <td>2.614918</td>\n",
       "    </tr>\n",
       "    <tr>\n",
       "      <th>14</th>\n",
       "      <td>226</td>\n",
       "      <td>2.607522</td>\n",
       "    </tr>\n",
       "    <tr>\n",
       "      <th>8</th>\n",
       "      <td>511</td>\n",
       "      <td>2.548337</td>\n",
       "    </tr>\n",
       "    <tr>\n",
       "      <th>1</th>\n",
       "      <td>1</td>\n",
       "      <td>1.000000</td>\n",
       "    </tr>\n",
       "    <tr>\n",
       "      <th>4</th>\n",
       "      <td>1</td>\n",
       "      <td>0.000000</td>\n",
       "    </tr>\n",
       "  </tbody>\n",
       "</table>\n",
       "</div>"
      ],
      "text/plain": [
       "       count  epaisseurdernierstravaux\n",
       "annee                                 \n",
       "5          2                  6.500000\n",
       "12       271                  3.419557\n",
       "10       104                  3.187500\n",
       "11       453                  3.111038\n",
       "50         1                  3.000000\n",
       "9        247                  2.832794\n",
       "13       273                  2.762271\n",
       "7       3345                  2.614918\n",
       "14       226                  2.607522\n",
       "8        511                  2.548337\n",
       "1          1                  1.000000\n",
       "4          1                  0.000000"
      ]
     },
     "execution_count": 15,
     "metadata": {},
     "output_type": "execute_result"
    }
   ],
   "source": [
    "df = nombreTravaux.merge(epaisseurTravaux, how='inner', left_index = True, right_index = True)\n",
    "df.sort_values(by = ['epaisseurdernierstravaux'], axis = 0, ascending = False, inplace = True)\n",
    "df"
   ]
  }
 ],
 "metadata": {
  "anaconda-cloud": {},
  "kernelspec": {
   "display_name": "Python [conda root]",
   "language": "python",
   "name": "conda-root-py"
  },
  "language_info": {
   "codemirror_mode": {
    "name": "ipython",
    "version": 3
   },
   "file_extension": ".py",
   "mimetype": "text/x-python",
   "name": "python",
   "nbconvert_exporter": "python",
   "pygments_lexer": "ipython3",
   "version": "3.5.2"
  }
 },
 "nbformat": 4,
 "nbformat_minor": 1
}
