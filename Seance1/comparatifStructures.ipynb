{
 "cells": [
  {
   "cell_type": "markdown",
   "metadata": {
    "collapsed": true
   },
   "source": [
    "Les structures de données en Python"
   ]
  },
  {
   "cell_type": "markdown",
   "metadata": {
    "slideshow": {
     "slide_type": "-"
    }
   },
   "source": [
    "# Introduction\n",
    "\n",
    "Il existe différents types de structures de données en Python.\n",
    "\n",
    "Nous allons étudier ici :\n",
    "- les listes\n",
    "- les tuples\n",
    "- les dictionnaires\n",
    "- les sets"
   ]
  },
  {
   "cell_type": "markdown",
   "metadata": {},
   "source": [
    "# Présentation de 4 structures de données"
   ]
  },
  {
   "cell_type": "markdown",
   "metadata": {},
   "source": [
    "## Les listes\n",
    "\n",
    "La liste est une structure de donnée permettant de stocker des éléments. Ceux-ci sont indéxés, le premier élément se trouve à l'indice 0, le deuxième à l'indice 1 etc. Les éléments d'une liste ne sont pas forcément du même type.\n",
    "Les listes pevent être tronquées et concaténées.  \n",
    "\n",
    "\n",
    "Avantages :  \n",
    "- on peut y stocker n'importe quel type d'élements\n",
    "- de nombreuses fonctions permettent de manipuler les listes\n",
    "\n",
    "\n",
    "Inconvénients :\n",
    "- il faut connaitre la position d'un élément pour y accéder\n",
    "- la suppression d'un élément prend beaucoups de temps car tous les éléments suivants on besoin d'être décalés"
   ]
  },
  {
   "cell_type": "markdown",
   "metadata": {},
   "source": [
    "Exemple :\n",
    "\n",
    "Un exemple d'utilisation des listes est le \"stack\" il consiste à stocker des objets dans une liste au fur et à mesure et à traiter le dernier objet de la liste lors des phases de traitement, c'est le modèle “last-in, first-out”."
   ]
  },
  {
   "cell_type": "code",
   "execution_count": 1,
   "metadata": {
    "collapsed": false,
    "scrolled": true
   },
   "outputs": [
    {
     "name": "stdout",
     "output_type": "stream",
     "text": [
      "[3, 4, 5, 6, 7]\n",
      "7\n",
      "[3, 4, 5, 6]\n",
      "6\n",
      "5\n",
      "[3, 4]\n"
     ]
    }
   ],
   "source": [
    "stack = [3, 4, 5]\n",
    "stack.append(6)\n",
    "stack.append(7)\n",
    "print(stack)\n",
    "\n",
    "print(stack.pop())\n",
    "print(stack)\n",
    "\n",
    "print(stack.pop())\n",
    "print(stack.pop())\n",
    "print(stack)"
   ]
  },
  {
   "cell_type": "markdown",
   "metadata": {},
   "source": [
    "## Les tuples\n",
    "\n",
    "Un tuple est une liste de valeurs immuable. Sa valeur ne peut pas être changée une fois instanciée. Les tuples peuvent être imbriqués ou combinés pour créer d'autres tuples avec les opérateurs (','), ('+') et ('\\*').\n",
    "\n",
    "\n",
    "Avantages :  \n",
    "- on peut y stocker n'importe quel type d'élements\n",
    "- un tuple est immuable, ce qui garanti l'intégrité des données\n",
    "\n",
    "\n",
    "Inconvénients :\n",
    "- un tuple ne peut pas être modifié "
   ]
  },
  {
   "cell_type": "markdown",
   "metadata": {},
   "source": [
    "Exemple :\n",
    "\n",
    "Un exemple d'utilisation du tuple pourrait être de stocker une collection d'éléments invariants pendant tout le programme afin de s'assurer de leur intégrité.\n",
    "On peut par exemple stocker des variables caractérisant la machine sur laquelle le programme est éxécuté ainsi que le date d'execution :"
   ]
  },
  {
   "cell_type": "code",
   "execution_count": 2,
   "metadata": {
    "collapsed": false
   },
   "outputs": [
    {
     "name": "stdout",
     "output_type": "stream",
     "text": [
      "('Windows-10-10.0.14393-SP0', 'AMD64', datetime.date(2017, 1, 1))\n"
     ]
    }
   ],
   "source": [
    "import datetime\n",
    "import platform\n",
    "\n",
    "detailsMachine = (platform.platform(), platform.machine(), datetime.date.today())\n",
    "print(detailsMachine)"
   ]
  },
  {
   "cell_type": "markdown",
   "metadata": {},
   "source": [
    "## Les dictionnaires\n",
    "\n",
    "Un dictionnaire est une collection d'objet fonctionnant sur un système clé-valeur. Une clé est unique et peut être n'importe quel type de variable immuable : un entier, une string, un tuple...\n",
    "\n",
    "\n",
    "Avantages :  \n",
    "- on peut y stocker n'importe quel type d'élements\n",
    "- la suppression d'un élément est plus rapide que pour une liste puisque les données ne possèdent pas d'index\n",
    "\n",
    "\n",
    "Inconvénients :\n",
    "- il est nécessaire de créer une clé unique à l'ajout d'une nouvelle entrée\n",
    "- les éléments ne sont pas indéxés"
   ]
  },
  {
   "cell_type": "markdown",
   "metadata": {},
   "source": [
    "Exemple :\n",
    "\n",
    "Un exemple d'utilisation du dictionnaire serait par exemple de stocker l'age relatif à une personne."
   ]
  },
  {
   "cell_type": "code",
   "execution_count": 3,
   "metadata": {
    "collapsed": false
   },
   "outputs": [
    {
     "name": "stdout",
     "output_type": "stream",
     "text": [
      "{'tim': 34, 'bob': 22}\n",
      "{'tom': 20, 'tim': 34, 'bob': 22}\n",
      "{'tom': 20, 'tim': 34}\n"
     ]
    }
   ],
   "source": [
    "ages = {'bob': 22, 'tim':34}\n",
    "print(ages)\n",
    "ages['tom'] = 20\n",
    "print(ages)\n",
    "del ages['bob']\n",
    "print(ages)"
   ]
  },
  {
   "cell_type": "markdown",
   "metadata": {},
   "source": [
    "## Les sets\n",
    "\n",
    "Un set est une collection désordonnée et ne contenant chaque élément qu'une seule fois. On ne peut pas modifier un élément d'un set, seulement en ajouter ou en retirer.\n",
    "\n",
    "Les sets peuvent être comparés entre eux : on peut ainsi connaitre les éléments dans un set a qui ne sont pas dans un autre set b, ou bien les éléments en commun entre a et b.\n",
    "\n",
    "Les sets ne sont donc pas appropriés pour le simple stockage de valeurs, mais plus pour les manipuler.\n",
    "\n",
    "\n",
    "Avantages :  \n",
    "- on peut y stocker n'importe quel type d'élements\n",
    "- on peut faire des opération sur des sets pour les comparer\n",
    "\n",
    "\n",
    "Inconvénients :\n",
    "- convient peu pour le simple stockage de données"
   ]
  },
  {
   "cell_type": "markdown",
   "metadata": {},
   "source": [
    "Exemple :\n",
    "\n",
    "Un exemple d'utilisation des sets serait par exemple de comparer deux sets contenant des caractères et de récupérer seulement les caractères communs aux deux sets."
   ]
  },
  {
   "cell_type": "code",
   "execution_count": 4,
   "metadata": {
    "collapsed": false
   },
   "outputs": [
    {
     "name": "stdout",
     "output_type": "stream",
     "text": [
      "{'y', 'i', 'z', 'k', 'r', 'l', 'g', 'q', 't', 'o', 'u', 'p', 'm', 'f', 'h', 'd', 's', 'a', 'e', 'j'}\n",
      "{'a', 'y', 'i', 'z', 'r', 'o', 't', 'u', 'p', 'e'}\n",
      "{'y', 'i', 'z', 'r', 'o', 't', 'u', 'p', 'a', 'e'}\n"
     ]
    }
   ],
   "source": [
    "set1 = set('azertyuiopmlkjhgfdsq')\n",
    "set2 = set('poiuytreza')\n",
    "set3 = set1 & set2\n",
    "print(set1)\n",
    "print(set2)\n",
    "print(set3)"
   ]
  },
  {
   "cell_type": "markdown",
   "metadata": {},
   "source": [
    "# Performances\n",
    "\n",
    "Afin d'évaluer les performances des différents types étudiés, je vais : \n",
    "- instancier chaque type de strucuture avec 1 000 000 d'entrées\n",
    "- accéder à 10 000 éléments de la structure\n",
    "- supprimer 10 000 éléments de la structure (sauf pour le tuple...)\n",
    "- insérer 10 000 éléments dans la structure (sauf pour le tuple...)"
   ]
  },
  {
   "cell_type": "markdown",
   "metadata": {},
   "source": [
    "## Création"
   ]
  },
  {
   "cell_type": "code",
   "execution_count": 5,
   "metadata": {
    "collapsed": false
   },
   "outputs": [
    {
     "name": "stdout",
     "output_type": "stream",
     "text": [
      "--- 0.09130350686056242 seconds to create the list ---\n",
      "--- 0.0912691645745504 seconds to create the tuple ---\n",
      "--- 0.09499234206495824 seconds to create the dictionary ---\n",
      "--- 0.12328564887183613 seconds to create the set ---\n"
     ]
    }
   ],
   "source": [
    "import time\n",
    "\n",
    "start_time = time.clock()\n",
    "myList = list(x for x in range(1000000))\n",
    "print(\"--- %s seconds to create the list ---\" % (time.clock() - start_time))\n",
    "\n",
    "start_time = time.clock()\n",
    "myTuple = tuple(x for x in range(1000000))\n",
    "print(\"--- %s seconds to create the tuple ---\" % (time.clock() - start_time))\n",
    "\n",
    "start_time = time.clock()\n",
    "myDictionary = {x: x for x in range(1000000)}\n",
    "print(\"--- %s seconds to create the dictionary ---\" % (time.clock() - start_time))\n",
    "\n",
    "start_time = time.clock()\n",
    "mySet = set(x for x in range(1000000))\n",
    "print(\"--- %s seconds to create the set ---\" % (time.clock() - start_time))"
   ]
  },
  {
   "cell_type": "markdown",
   "metadata": {},
   "source": [
    "## Accès aux données"
   ]
  },
  {
   "cell_type": "code",
   "execution_count": 6,
   "metadata": {
    "collapsed": false
   },
   "outputs": [
    {
     "name": "stdout",
     "output_type": "stream",
     "text": [
      "--- 0.001921983799914706 seconds to acces elements of the list ---\n",
      "--- 0.0018256675035132064 seconds to acces element of the tuple ---\n",
      "--- 0.00272133011226372 seconds to access elements of the dictionary ---\n",
      "--- 0.0023096174190391228 seconds to access element of the set ---\n"
     ]
    }
   ],
   "source": [
    "import numpy\n",
    "\n",
    "# Creating a list of all the testing indexes\n",
    "indexes = list(map(lambda x: int(round(x)), numpy.linspace(0, 999999, 10000)))\n",
    "\n",
    "start_time = time.clock()\n",
    "for index in indexes:\n",
    "    myList[index]\n",
    "print(\"--- %s seconds to acces elements of the list ---\" % (time.clock() - start_time))\n",
    "\n",
    "start_time = time.clock()\n",
    "for index in indexes:\n",
    "    myTuple[index]\n",
    "print(\"--- %s seconds to acces element of the tuple ---\" % (time.clock() - start_time))\n",
    "\n",
    "start_time = time.clock()\n",
    "for index in indexes:\n",
    "    myDictionary[index]\n",
    "print(\"--- %s seconds to access elements of the dictionary ---\" % (time.clock() - start_time))\n",
    "\n",
    "start_time = time.clock()\n",
    "for index in indexes:\n",
    "    index in mySet\n",
    "print(\"--- %s seconds to access element of the set ---\" % (time.clock() - start_time))"
   ]
  },
  {
   "cell_type": "markdown",
   "metadata": {},
   "source": [
    "L'accès au éléments des différentes structures prend un temps équivalent."
   ]
  },
  {
   "cell_type": "markdown",
   "metadata": {},
   "source": [
    "## Suppression"
   ]
  },
  {
   "cell_type": "code",
   "execution_count": 7,
   "metadata": {
    "collapsed": false
   },
   "outputs": [
    {
     "name": "stdout",
     "output_type": "stream",
     "text": [
      "--- 3.489939683893073 seconds to delete elements from the list ---\n",
      "--- 0.003850678161463783 seconds to delete elements from the dictionary ---\n",
      "--- 0.0033110700582632546 seconds to delete element from the set ---\n"
     ]
    }
   ],
   "source": [
    "# I remove 10000 elements from indexes for the loop because i will delete elements on the fly\n",
    "indexes2 = list(map(lambda x: int(round(x)), numpy.linspace(0, 999999-10000, 10000)))\n",
    "\n",
    "start_time = time.clock()\n",
    "for index in indexes2:\n",
    "    del myList[index]\n",
    "print(\"--- %s seconds to delete elements from the list ---\" % (time.clock() - start_time))\n",
    "\n",
    "start_time = time.clock()\n",
    "for index in indexes2:\n",
    "    del myDictionary[index]\n",
    "print(\"--- %s seconds to delete elements from the dictionary ---\" % (time.clock() - start_time))\n",
    "\n",
    "start_time = time.clock()\n",
    "for index in indexes2:\n",
    "    mySet.remove(index)\n",
    "print(\"--- %s seconds to delete element from the set ---\" % (time.clock() - start_time))"
   ]
  },
  {
   "cell_type": "markdown",
   "metadata": {},
   "source": [
    "On peut voir dans cet exemple que les éléments de la liste prennent plus de temps à être supprimés. Cela est du a fait qu'a chaque suppression, tous les éléments suivant celui qui est supprimé sont décalés."
   ]
  },
  {
   "cell_type": "markdown",
   "metadata": {},
   "source": [
    "## Insertion"
   ]
  },
  {
   "cell_type": "code",
   "execution_count": 8,
   "metadata": {
    "collapsed": false
   },
   "outputs": [
    {
     "name": "stdout",
     "output_type": "stream",
     "text": [
      "--- 0.002076326717508792 seconds to add elements to the list ---\n",
      "--- 0.0034129126995408043 seconds to add elements to the dictionary ---\n",
      "--- 0.005559502944752381 seconds to add element to the set ---\n"
     ]
    }
   ],
   "source": [
    "start_time = time.clock()\n",
    "for index in indexes2:\n",
    "    myList.append(index)\n",
    "print(\"--- %s seconds to add elements to the list ---\" % (time.clock() - start_time))\n",
    "\n",
    "start_time = time.clock()\n",
    "for index in indexes2:\n",
    "    myDictionary[index] = index\n",
    "print(\"--- %s seconds to add elements to the dictionary ---\" % (time.clock() - start_time))\n",
    "\n",
    "start_time = time.clock()\n",
    "for index in indexes2:\n",
    "    mySet.add(index)\n",
    "print(\"--- %s seconds to add element to the set ---\" % (time.clock() - start_time))"
   ]
  },
  {
   "cell_type": "markdown",
   "metadata": {},
   "source": [
    "Le temps d'insertion de données est équivalent ici car les éléments sont ajoutés à la fin de la liste, ce qui n'entraine pas de décalage."
   ]
  },
  {
   "cell_type": "markdown",
   "metadata": {},
   "source": [
    "# Sources\n",
    "\n",
    "Général\n",
    "\n",
    "https://docs.python.org/3/tutorial/datastructures.html  \n",
    "http://sthurlow.com/python/lesson06/  \n",
    "\n",
    "Listes\n",
    "\n",
    "https://www.tutorialspoint.com/python/python_lists.htm  \n",
    "\n",
    "Tuples\n",
    "\n",
    "https://www.tutorialspoint.com/python/python_tuples.htm  \n",
    "http://stackoverflow.com/questions/68630/are-tuples-more-efficient-than-lists-in-python\n",
    "\n",
    "Sets\n",
    "https://www.programiz.com/python-programming/set  \n",
    "\n",
    "\n",
    "Dictionnaires\n",
    "https://www.tutorialspoint.com/python/python_dictionary.htm  "
   ]
  }
 ],
 "metadata": {
  "anaconda-cloud": {},
  "kernelspec": {
   "display_name": "Python [conda root]",
   "language": "python",
   "name": "conda-root-py"
  },
  "language_info": {
   "codemirror_mode": {
    "name": "ipython",
    "version": 3
   },
   "file_extension": ".py",
   "mimetype": "text/x-python",
   "name": "python",
   "nbconvert_exporter": "python",
   "pygments_lexer": "ipython3",
   "version": "3.5.2"
  }
 },
 "nbformat": 4,
 "nbformat_minor": 1
}
