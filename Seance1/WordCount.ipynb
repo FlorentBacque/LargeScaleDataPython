{
 "cells": [
  {
   "cell_type": "markdown",
   "metadata": {},
   "source": [
    "# Movielens 100k\n",
    "Ecrivez le code python permettant de calculer la distribution des notes des\n",
    "films proposés sur movielens. Vous utiliserez le dataset \"100k\" disponible à\n",
    "l’adresse http://grouplens.org/datasets/movielens/100k/."
   ]
  },
  {
   "cell_type": "markdown",
   "metadata": {},
   "source": [
    "# Programme"
   ]
  },
  {
   "cell_type": "markdown",
   "metadata": {},
   "source": [
    "Importation de la librairie csv permettant de lire les données du fichier u.data, de la librairie time permettant de calculer le temps d'execution"
   ]
  },
  {
   "cell_type": "code",
   "execution_count": 5,
   "metadata": {
    "collapsed": true
   },
   "outputs": [],
   "source": [
    "import csv\n",
    "import time\n",
    "\n",
    "start_time = time.clock()"
   ]
  },
  {
   "cell_type": "markdown",
   "metadata": {},
   "source": [
    "Création du dictionary \"notes\" permettant de stocker les résultats"
   ]
  },
  {
   "cell_type": "code",
   "execution_count": 6,
   "metadata": {
    "collapsed": true
   },
   "outputs": [],
   "source": [
    "notes = {\n",
    "    1: 0,\n",
    "    2: 0,\n",
    "    3: 0,\n",
    "    4: 0,\n",
    "    5: 0\n",
    "}"
   ]
  },
  {
   "cell_type": "markdown",
   "metadata": {},
   "source": [
    "Lecture du fichier contenant les notes et stockage des résultats dans le dictionary"
   ]
  },
  {
   "cell_type": "code",
   "execution_count": 7,
   "metadata": {
    "collapsed": true
   },
   "outputs": [],
   "source": [
    "with open('ml-100k/u.data', 'r') as csvfile:\n",
    " \n",
    "    spamreader = csv.reader(csvfile, delimiter='\\t')\n",
    "    \n",
    "    for row in spamreader:\n",
    "        notes[int(row[2])] += 1"
   ]
  },
  {
   "cell_type": "markdown",
   "metadata": {},
   "source": [
    "Affichage des résultats"
   ]
  },
  {
   "cell_type": "code",
   "execution_count": 8,
   "metadata": {
    "collapsed": false
   },
   "outputs": [
    {
     "name": "stdout",
     "output_type": "stream",
     "text": [
      "--- Temps d'execution : 0.7095688661519272 secondes ---\n",
      "\n",
      "Nombre de films à 1 étoile : 6110\n",
      "Nombre de films à 2 étoile : 11370\n",
      "Nombre de films à 3 étoile : 27145\n",
      "Nombre de films à 4 étoile : 34174\n",
      "Nombre de films à 5 étoile : 21201\n"
     ]
    }
   ],
   "source": [
    "print(\"--- Temps d'execution : %s secondes ---\\n\" % (time.clock() - start_time))\n",
    "print(\"Nombre de films à 1 étoile : \" + str(notes[1]))\n",
    "print(\"Nombre de films à 2 étoile : \" + str(notes[2]))\n",
    "print(\"Nombre de films à 3 étoile : \" + str(notes[3]))\n",
    "print(\"Nombre de films à 4 étoile : \" + str(notes[4]))\n",
    "print(\"Nombre de films à 5 étoile : \" + str(notes[5]))"
   ]
  }
 ],
 "metadata": {
  "anaconda-cloud": {},
  "kernelspec": {
   "display_name": "Python [default]",
   "language": "python",
   "name": "python3"
  },
  "language_info": {
   "codemirror_mode": {
    "name": "ipython",
    "version": 3
   },
   "file_extension": ".py",
   "mimetype": "text/x-python",
   "name": "python",
   "nbconvert_exporter": "python",
   "pygments_lexer": "ipython3",
   "version": "3.5.2"
  }
 },
 "nbformat": 4,
 "nbformat_minor": 1
}
