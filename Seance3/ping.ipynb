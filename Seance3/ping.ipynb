{
 "cells": [
  {
   "cell_type": "markdown",
   "metadata": {},
   "source": [
    "# Exercice 2\n",
    "\n",
    "- Créez un nouveau notebook \"ping.ipynb\"\n",
    "- Créez une série dont, pour chaque ligne : l’index est un code pour chaque dominante de l’Esigelec, la valeur est le nom complet de la dominante\n",
    "- Ajoutez une colonne avec le département auquel chaque dominante appartient\n",
    "- Créez une dataframe contenant le nom, prénom et code de dominante pour chaque membre de votre PING\n",
    "- Créez une dataframe contenant le pourcentage d’élèves par département pour votre PING\n",
    "- Enregistrez le résultat dans un fichier csv"
   ]
  },
  {
   "cell_type": "code",
   "execution_count": 1,
   "metadata": {
    "collapsed": false
   },
   "outputs": [
    {
     "data": {
      "text/plain": [
       "ASR                    Architecture et Sécurité des Réseaux\n",
       "BDTN              Big Data pour la Transformation Numérique\n",
       "IA-IR        Ingénieur d’Affaires : Informatique et Réseaux\n",
       "ISN                    Ingénierie des Services du Numérique\n",
       "IF                                        Ingénieur Finance\n",
       "ARI                   Automatique et Robotique Industrielle\n",
       "EDD                        Énergie et Développement Durable\n",
       "GET                           Génie Électrique et Transport\n",
       "IA-DES    Ingénieur d’Affaires : Distribution Énergie et...\n",
       "MCTGE                         Mécatronique Génie Électrique\n",
       "ISE-VA    Ingénierie des Systèmes Embarqués : Véhicule A...\n",
       "ISE-OC    Ingénierie des Systèmes Embarqués : Objets Com...\n",
       "ISYMED                     Ingénierie des Systèmes Médicaux\n",
       "ESAA      Electronique des Systèmes pour l’Automobile et...\n",
       "ICOM                                     Ingénierie Télécom\n",
       "Name: Dominante, dtype: object"
      ]
     },
     "execution_count": 1,
     "metadata": {},
     "output_type": "execute_result"
    }
   ],
   "source": [
    "import pandas as pd\n",
    "\n",
    "dominantes = pd.Series(\n",
    "    [\n",
    "        \"Architecture et Sécurité des Réseaux\", \n",
    "        \"Big Data pour la Transformation Numérique\",\n",
    "        \"Ingénieur d’Affaires : Informatique et Réseaux\",\n",
    "        \"Ingénierie des Services du Numérique\",\n",
    "        \"Ingénieur Finance\",\n",
    "        \"Automatique et Robotique Industrielle\",\n",
    "        \"Énergie et Développement Durable\",\n",
    "        \"Génie Électrique et Transport\",\n",
    "        \"Ingénieur d’Affaires : Distribution Énergie et Signaux\",\n",
    "        \"Mécatronique Génie Électrique\",\n",
    "        \"Ingénierie des Systèmes Embarqués : Véhicule Autonome\",\n",
    "        \"Ingénierie des Systèmes Embarqués : Objets Communicants\",\n",
    "        \"Ingénierie des Systèmes Médicaux\",\n",
    "        \"Electronique des Systèmes pour l’Automobile et l’Aéronautique\",\n",
    "        \"Ingénierie Télécom\"\n",
    "    ], index = [\n",
    "        \"ASR\",\n",
    "        \"BDTN\",\n",
    "        \"IA-IR\",\n",
    "        \"ISN\",\n",
    "        \"IF\",\n",
    "        \"ARI\",\n",
    "        \"EDD\",\n",
    "        \"GET\",\n",
    "        \"IA-DES\",\n",
    "        \"MCTGE\",\n",
    "        \"ISE-VA\",\n",
    "        \"ISE-OC\",\n",
    "        \"ISYMED\",\n",
    "        \"ESAA\",\n",
    "        \"ICOM\"\n",
    "    ], name = 'Dominante'\n",
    ")\n",
    "dominantes"
   ]
  },
  {
   "cell_type": "code",
   "execution_count": 2,
   "metadata": {
    "collapsed": false
   },
   "outputs": [],
   "source": [
    "dfDominantes = pd.DataFrame(dominantes)\n",
    "\n",
    "dfDepartements = pd.DataFrame(\n",
    "    [\n",
    "        \"TIC\",\n",
    "        \"TIC\",\n",
    "        \"TIC\",\n",
    "        \"TIC\",\n",
    "        \"TIC\", \n",
    "        \"GEE\",\n",
    "        \"GEE\",\n",
    "        \"GEE\",\n",
    "        \"GEE\",\n",
    "        \"SEI\",\n",
    "        \"SEI\", \n",
    "        \"SEI\",\n",
    "        \"SEI\",\n",
    "        \"ET\",\n",
    "        \"ET\"\n",
    "    ], index = [\n",
    "        \"ASR\",\n",
    "        \"BDTN\",\n",
    "        \"IA-IR\",\n",
    "        \"ISN\",\n",
    "        \"IF\",\n",
    "        \"ARI\",\n",
    "        \"EDD\",\n",
    "        \"GET\",\n",
    "        \"IA-DES\",\n",
    "        \"MCTGE\",\n",
    "        \"ISE-VA\",\n",
    "        \"ISE-OC\",\n",
    "        \"ISYMED\",\n",
    "        \"ESAA\",\n",
    "        \"ICOM\"\n",
    "    ], columns = ['Departement']\n",
    ")"
   ]
  },
  {
   "cell_type": "code",
   "execution_count": 3,
   "metadata": {
    "collapsed": false
   },
   "outputs": [
    {
     "data": {
      "text/html": [
       "<div>\n",
       "<table border=\"1\" class=\"dataframe\">\n",
       "  <thead>\n",
       "    <tr style=\"text-align: right;\">\n",
       "      <th></th>\n",
       "      <th>Dominante</th>\n",
       "      <th>Key</th>\n",
       "      <th>Departement</th>\n",
       "    </tr>\n",
       "  </thead>\n",
       "  <tbody>\n",
       "    <tr>\n",
       "      <th>0</th>\n",
       "      <td>Architecture et Sécurité des Réseaux</td>\n",
       "      <td>ASR</td>\n",
       "      <td>TIC</td>\n",
       "    </tr>\n",
       "    <tr>\n",
       "      <th>1</th>\n",
       "      <td>Big Data pour la Transformation Numérique</td>\n",
       "      <td>BDTN</td>\n",
       "      <td>TIC</td>\n",
       "    </tr>\n",
       "    <tr>\n",
       "      <th>2</th>\n",
       "      <td>Ingénieur d’Affaires : Informatique et Réseaux</td>\n",
       "      <td>IA-IR</td>\n",
       "      <td>TIC</td>\n",
       "    </tr>\n",
       "    <tr>\n",
       "      <th>3</th>\n",
       "      <td>Ingénierie des Services du Numérique</td>\n",
       "      <td>ISN</td>\n",
       "      <td>TIC</td>\n",
       "    </tr>\n",
       "    <tr>\n",
       "      <th>4</th>\n",
       "      <td>Ingénieur Finance</td>\n",
       "      <td>IF</td>\n",
       "      <td>TIC</td>\n",
       "    </tr>\n",
       "    <tr>\n",
       "      <th>5</th>\n",
       "      <td>Automatique et Robotique Industrielle</td>\n",
       "      <td>ARI</td>\n",
       "      <td>GEE</td>\n",
       "    </tr>\n",
       "    <tr>\n",
       "      <th>6</th>\n",
       "      <td>Énergie et Développement Durable</td>\n",
       "      <td>EDD</td>\n",
       "      <td>GEE</td>\n",
       "    </tr>\n",
       "    <tr>\n",
       "      <th>7</th>\n",
       "      <td>Génie Électrique et Transport</td>\n",
       "      <td>GET</td>\n",
       "      <td>GEE</td>\n",
       "    </tr>\n",
       "    <tr>\n",
       "      <th>8</th>\n",
       "      <td>Ingénieur d’Affaires : Distribution Énergie et...</td>\n",
       "      <td>IA-DES</td>\n",
       "      <td>GEE</td>\n",
       "    </tr>\n",
       "    <tr>\n",
       "      <th>9</th>\n",
       "      <td>Mécatronique Génie Électrique</td>\n",
       "      <td>MCTGE</td>\n",
       "      <td>SEI</td>\n",
       "    </tr>\n",
       "    <tr>\n",
       "      <th>10</th>\n",
       "      <td>Ingénierie des Systèmes Embarqués : Véhicule A...</td>\n",
       "      <td>ISE-VA</td>\n",
       "      <td>SEI</td>\n",
       "    </tr>\n",
       "    <tr>\n",
       "      <th>11</th>\n",
       "      <td>Ingénierie des Systèmes Embarqués : Objets Com...</td>\n",
       "      <td>ISE-OC</td>\n",
       "      <td>SEI</td>\n",
       "    </tr>\n",
       "    <tr>\n",
       "      <th>12</th>\n",
       "      <td>Ingénierie des Systèmes Médicaux</td>\n",
       "      <td>ISYMED</td>\n",
       "      <td>SEI</td>\n",
       "    </tr>\n",
       "    <tr>\n",
       "      <th>13</th>\n",
       "      <td>Electronique des Systèmes pour l’Automobile et...</td>\n",
       "      <td>ESAA</td>\n",
       "      <td>ET</td>\n",
       "    </tr>\n",
       "    <tr>\n",
       "      <th>14</th>\n",
       "      <td>Ingénierie Télécom</td>\n",
       "      <td>ICOM</td>\n",
       "      <td>ET</td>\n",
       "    </tr>\n",
       "  </tbody>\n",
       "</table>\n",
       "</div>"
      ],
      "text/plain": [
       "                                            Dominante     Key Departement\n",
       "0                Architecture et Sécurité des Réseaux     ASR         TIC\n",
       "1           Big Data pour la Transformation Numérique    BDTN         TIC\n",
       "2      Ingénieur d’Affaires : Informatique et Réseaux   IA-IR         TIC\n",
       "3                Ingénierie des Services du Numérique     ISN         TIC\n",
       "4                                   Ingénieur Finance      IF         TIC\n",
       "5               Automatique et Robotique Industrielle     ARI         GEE\n",
       "6                    Énergie et Développement Durable     EDD         GEE\n",
       "7                       Génie Électrique et Transport     GET         GEE\n",
       "8   Ingénieur d’Affaires : Distribution Énergie et...  IA-DES         GEE\n",
       "9                       Mécatronique Génie Électrique   MCTGE         SEI\n",
       "10  Ingénierie des Systèmes Embarqués : Véhicule A...  ISE-VA         SEI\n",
       "11  Ingénierie des Systèmes Embarqués : Objets Com...  ISE-OC         SEI\n",
       "12                   Ingénierie des Systèmes Médicaux  ISYMED         SEI\n",
       "13  Electronique des Systèmes pour l’Automobile et...    ESAA          ET\n",
       "14                                 Ingénierie Télécom    ICOM          ET"
      ]
     },
     "execution_count": 3,
     "metadata": {},
     "output_type": "execute_result"
    }
   ],
   "source": [
    "dfDominantes['Key'] = dfDominantes.index\n",
    "dfDepartements['Key'] = dfDepartements.index\n",
    "\n",
    "dfDepDom = pd.DataFrame(pd.merge(dfDominantes, dfDepartements, on='Key'))\n",
    "dfDepDom"
   ]
  },
  {
   "cell_type": "code",
   "execution_count": 4,
   "metadata": {
    "collapsed": false
   },
   "outputs": [
    {
     "data": {
      "text/html": [
       "<div>\n",
       "<table border=\"1\" class=\"dataframe\">\n",
       "  <thead>\n",
       "    <tr style=\"text-align: right;\">\n",
       "      <th></th>\n",
       "      <th>codeDominante</th>\n",
       "      <th>fistName</th>\n",
       "      <th>lastName</th>\n",
       "    </tr>\n",
       "  </thead>\n",
       "  <tbody>\n",
       "    <tr>\n",
       "      <th>0</th>\n",
       "      <td>ISE-OC</td>\n",
       "      <td>Mathieu</td>\n",
       "      <td>Cailly</td>\n",
       "    </tr>\n",
       "    <tr>\n",
       "      <th>1</th>\n",
       "      <td>IA-IR</td>\n",
       "      <td>Cyrille</td>\n",
       "      <td>Kamdem</td>\n",
       "    </tr>\n",
       "    <tr>\n",
       "      <th>2</th>\n",
       "      <td>BDTN</td>\n",
       "      <td>Florent</td>\n",
       "      <td>Bacque</td>\n",
       "    </tr>\n",
       "    <tr>\n",
       "      <th>3</th>\n",
       "      <td>ISN</td>\n",
       "      <td>Emmanuel</td>\n",
       "      <td>Veron</td>\n",
       "    </tr>\n",
       "    <tr>\n",
       "      <th>4</th>\n",
       "      <td>ISE-VA</td>\n",
       "      <td>Aymeric</td>\n",
       "      <td>Descamps</td>\n",
       "    </tr>\n",
       "    <tr>\n",
       "      <th>5</th>\n",
       "      <td>BDTN</td>\n",
       "      <td>Aimy</td>\n",
       "      <td>Carlet</td>\n",
       "    </tr>\n",
       "  </tbody>\n",
       "</table>\n",
       "</div>"
      ],
      "text/plain": [
       "  codeDominante  fistName  lastName\n",
       "0        ISE-OC   Mathieu    Cailly\n",
       "1         IA-IR   Cyrille    Kamdem\n",
       "2          BDTN   Florent    Bacque\n",
       "3           ISN  Emmanuel     Veron\n",
       "4        ISE-VA   Aymeric  Descamps\n",
       "5          BDTN      Aimy    Carlet"
      ]
     },
     "execution_count": 4,
     "metadata": {},
     "output_type": "execute_result"
    }
   ],
   "source": [
    "member_1 = pd.Series({\n",
    "        'fistName': 'Mathieu',\n",
    "        'lastName': 'Cailly',\n",
    "        'codeDominante': 'ISE-OC'\n",
    "    })\n",
    "\n",
    "member_2 = pd.Series({\n",
    "        'fistName': 'Cyrille',\n",
    "        'lastName': 'Kamdem',\n",
    "        'codeDominante': 'IA-IR'\n",
    "    })\n",
    "\n",
    "member_3 = pd.Series({\n",
    "        'fistName': 'Florent',\n",
    "        'lastName': 'Bacque',\n",
    "        'codeDominante': 'BDTN'\n",
    "    })\n",
    "\n",
    "member_4 = pd.Series({\n",
    "        'fistName': 'Emmanuel',\n",
    "        'lastName': 'Veron',\n",
    "        'codeDominante': 'ISN'\n",
    "    })\n",
    "\n",
    "member_5 = pd.Series({\n",
    "        'fistName': 'Aymeric',\n",
    "        'lastName': 'Descamps',\n",
    "        'codeDominante': 'ISE-VA'\n",
    "    })\n",
    "\n",
    "member_6 = pd.Series({\n",
    "        'fistName': 'Aimy',\n",
    "        'lastName': 'Carlet',\n",
    "        'codeDominante': 'BDTN'\n",
    "    })\n",
    "\n",
    "dfMembers = pd.DataFrame([\n",
    "        member_1,\n",
    "        member_2,\n",
    "        member_3,\n",
    "        member_4,\n",
    "        member_5,\n",
    "        member_6\n",
    "    ])\n",
    "dfMembers"
   ]
  },
  {
   "cell_type": "markdown",
   "metadata": {},
   "source": [
    "Ajoutons une colonne au dataframe contenant les dominantes et départements"
   ]
  },
  {
   "cell_type": "code",
   "execution_count": 5,
   "metadata": {
    "collapsed": false
   },
   "outputs": [],
   "source": [
    "dfMembers['number'] = 1\n",
    "dfMembers = dfMembers.groupby('codeDominante').sum()\n",
    "dfMembers['codeDominante'] = dfMembers.index\n",
    "\n",
    "dfFinal = dfDepDom.loc[:,['Key', 'Departement']].copy()\n",
    "dfFinal = pd.merge(dfFinal, dfMembers, left_on='Key', right_on='codeDominante', how='left')\n",
    "del dfFinal['codeDominante']\n",
    "dfFinal = dfFinal.fillna(value = 0)\n",
    "dfFinal = dfFinal.groupby('Departement').sum()\n",
    "dfFinal['number'] = dfFinal['number']/dfFinal['number'].sum()"
   ]
  },
  {
   "cell_type": "markdown",
   "metadata": {},
   "source": [
    "Visualisation des données :"
   ]
  },
  {
   "cell_type": "code",
   "execution_count": 16,
   "metadata": {
    "collapsed": false
   },
   "outputs": [
    {
     "data": {
      "image/png": "[encoded data removed]",
      "text/plain": [
       "<matplotlib.figure.Figure at 0x23a7c50af60>"
      ]
     },
     "metadata": {},
     "output_type": "display_data"
    }
   ],
   "source": [
    "import matplotlib.pyplot as plt\n",
    "import numpy as np\n",
    "\n",
    "# Example data\n",
    "departements = dfFinal.index.values\n",
    "x_pos = np.arange(len(departements))\n",
    "pourcentage = dfFinal['number']\n",
    "\n",
    "plt.bar(x_pos, pourcentage, align='center', alpha=0.4)\n",
    "plt.xticks(x_pos, departements)\n",
    "plt.xlabel('Departements')\n",
    "plt.ylabel('Pourcentage')\n",
    "plt.title('PING')\n",
    "\n",
    "plt.show()"
   ]
  },
  {
   "cell_type": "code",
   "execution_count": 18,
   "metadata": {
    "collapsed": false
   },
   "outputs": [
    {
     "data": {
      "image/png": "[encoded data removed]",
      "text/plain": [
       "<matplotlib.figure.Figure at 0x23a7c41c630>"
      ]
     },
     "metadata": {},
     "output_type": "display_data"
    }
   ],
   "source": [
    "labels = dfFinal.index.values\n",
    "sizes = dfFinal['number']*100\n",
    "colors = ['yellowgreen', 'gold', 'lightskyblue', 'lightcoral']\n",
    "explode = (0, 0, 0, 0.1)  # only \"explode\" the 2nd slice (i.e. 'Hogs')\n",
    "\n",
    "plt.pie(sizes, explode=explode, labels=labels, colors=colors,\n",
    "        autopct='%1.1f%%', shadow=True, startangle=90)\n",
    "plt.axis('equal')\n",
    "\n",
    "plt.show()"
   ]
  }
 ],
 "metadata": {
  "anaconda-cloud": {},
  "kernelspec": {
   "display_name": "Python [conda root]",
   "language": "python",
   "name": "conda-root-py"
  },
  "language_info": {
   "codemirror_mode": {
    "name": "ipython",
    "version": 3
   },
   "file_extension": ".py",
   "mimetype": "text/x-python",
   "name": "python",
   "nbconvert_exporter": "python",
   "pygments_lexer": "ipython3",
   "version": "3.5.2"
  }
 },
 "nbformat": 4,
 "nbformat_minor": 1
}
